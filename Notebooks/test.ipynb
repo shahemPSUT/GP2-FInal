{
 "cells": [
  {
   "cell_type": "code",
   "execution_count": 1,
   "id": "724dcc8e",
   "metadata": {},
   "outputs": [
    {
     "name": "stderr",
     "output_type": "stream",
     "text": [
      "[nltk_data] Downloading package stopwords to\n",
      "[nltk_data]     C:\\Users\\HP\\AppData\\Roaming\\nltk_data...\n",
      "[nltk_data]   Package stopwords is already up-to-date!\n"
     ]
    }
   ],
   "source": [
    "import re\n",
    "import glob\n",
    "import numpy as np\n",
    "import pandas as pd\n",
    "import seaborn as sns\n",
    "import matplotlib.pyplot as plt\n",
    "\n",
    "import warnings\n",
    "warnings.filterwarnings('ignore')\n",
    "\n",
    "import nltk\n",
    "nltk.download('stopwords')\n",
    "\n",
    "from nltk.corpus import stopwords\n",
    "from nltk.stem import PorterStemmer\n",
    "from nltk.tokenize import word_tokenize\n",
    "\n",
    "from sklearn.model_selection import GridSearchCV"
   ]
  },
  {
   "cell_type": "code",
   "execution_count": null,
   "id": "f51898bc",
   "metadata": {},
   "outputs": [],
   "source": []
  },
  {
   "cell_type": "code",
   "execution_count": 3,
   "id": "c48891eb",
   "metadata": {},
   "outputs": [],
   "source": [
    "E13 = pd.read_csv(\"Combined_E13.csv\")\n",
    "FSF = pd.read_csv(\"Combined_FSF.csv\")\n",
    "INT = pd.read_csv(\"Combined_INT.csv\")\n",
    "TFP = pd.read_csv(\"Combined_TFP.csv\")\n",
    "TWT = pd.read_csv(\"Combined_TWT.csv\")"
   ]
  },
  {
   "cell_type": "code",
   "execution_count": 4,
   "id": "8ea024b3",
   "metadata": {},
   "outputs": [],
   "source": [
    "E13 = E13.sample(1000)\n",
    "FSF  = FSF.sample(1000)\n",
    "INT = INT.sample(1000)\n",
    "TFP = TFP.sample(1000)\n",
    "TWT = TWT.sample(1000)"
   ]
  },
  {
   "cell_type": "code",
   "execution_count": 5,
   "id": "0d77b33f",
   "metadata": {},
   "outputs": [],
   "source": [
    "E13['Label'] = [\"Human\" for i in range(E13.shape[0])]\n",
    "FSF['Label'] = [\"Fake\" for i in range(FSF.shape[0])]\n",
    "INT['Label'] = [\"Fake\" for i in range(INT.shape[0])]\n",
    "TFP['Label'] = [\"Human\" for i in range(TFP.shape[0])]\n",
    "TWT['Label'] = [\"Fake\" for i in range(TWT.shape[0])]"
   ]
  },
  {
   "cell_type": "code",
   "execution_count": 6,
   "id": "372b46e3",
   "metadata": {},
   "outputs": [
    {
     "name": "stdout",
     "output_type": "stream",
     "text": [
      "Complete dataset shape:  (5000, 35)\n"
     ]
    }
   ],
   "source": [
    "df = pd.concat([E13, FSF, INT, TFP, TWT])\n",
    "print(\"Complete dataset shape: \", df.shape)"
   ]
  },
  {
   "cell_type": "code",
   "execution_count": 7,
   "id": "4b5ec36a",
   "metadata": {},
   "outputs": [
    {
     "data": {
      "text/html": [
       "<div>\n",
       "<style scoped>\n",
       "    .dataframe tbody tr th:only-of-type {\n",
       "        vertical-align: middle;\n",
       "    }\n",
       "\n",
       "    .dataframe tbody tr th {\n",
       "        vertical-align: top;\n",
       "    }\n",
       "\n",
       "    .dataframe thead th {\n",
       "        text-align: right;\n",
       "    }\n",
       "</style>\n",
       "<table border=\"1\" class=\"dataframe\">\n",
       "  <thead>\n",
       "    <tr style=\"text-align: right;\">\n",
       "      <th></th>\n",
       "      <th>user_id</th>\n",
       "      <th>name</th>\n",
       "      <th>screen_name</th>\n",
       "      <th>statuses_count</th>\n",
       "      <th>followers_count</th>\n",
       "      <th>friends_count</th>\n",
       "      <th>favourites_count</th>\n",
       "      <th>listed_count</th>\n",
       "      <th>lang</th>\n",
       "      <th>profile_image_url</th>\n",
       "      <th>...</th>\n",
       "      <th>in_reply_to_user_id</th>\n",
       "      <th>retweet_count</th>\n",
       "      <th>favorite_count</th>\n",
       "      <th>num_hashtags</th>\n",
       "      <th>num_urls</th>\n",
       "      <th>num_mentions</th>\n",
       "      <th>tweet_created_year</th>\n",
       "      <th>tweet_created_month</th>\n",
       "      <th>tweet_created_day</th>\n",
       "      <th>Label</th>\n",
       "    </tr>\n",
       "  </thead>\n",
       "  <tbody>\n",
       "    <tr>\n",
       "      <th>1379721</th>\n",
       "      <td>432377556</td>\n",
       "      <td>Carlo Mazzocca</td>\n",
       "      <td>carlomazzocca</td>\n",
       "      <td>1549</td>\n",
       "      <td>354</td>\n",
       "      <td>214</td>\n",
       "      <td>1</td>\n",
       "      <td>3.0</td>\n",
       "      <td>it</td>\n",
       "      <td>http://a0.twimg.com/profile_images/2684696294/...</td>\n",
       "      <td>...</td>\n",
       "      <td>0</td>\n",
       "      <td>0</td>\n",
       "      <td>0.0</td>\n",
       "      <td>1</td>\n",
       "      <td>0</td>\n",
       "      <td>0</td>\n",
       "      <td>2012</td>\n",
       "      <td>4</td>\n",
       "      <td>1</td>\n",
       "      <td>Human</td>\n",
       "    </tr>\n",
       "    <tr>\n",
       "      <th>768368</th>\n",
       "      <td>206615715</td>\n",
       "      <td>Eve's Lost Control</td>\n",
       "      <td>EveBlissett</td>\n",
       "      <td>5311</td>\n",
       "      <td>1249</td>\n",
       "      <td>886</td>\n",
       "      <td>296</td>\n",
       "      <td>37.0</td>\n",
       "      <td>it</td>\n",
       "      <td>http://a0.twimg.com/profile_images/3051400897/...</td>\n",
       "      <td>...</td>\n",
       "      <td>0</td>\n",
       "      <td>0</td>\n",
       "      <td>1.0</td>\n",
       "      <td>1</td>\n",
       "      <td>1</td>\n",
       "      <td>1</td>\n",
       "      <td>2012</td>\n",
       "      <td>6</td>\n",
       "      <td>9</td>\n",
       "      <td>Human</td>\n",
       "    </tr>\n",
       "    <tr>\n",
       "      <th>424486</th>\n",
       "      <td>85305729</td>\n",
       "      <td>âˆ†aft Jump</td>\n",
       "      <td>iMightBeWrong</td>\n",
       "      <td>4043</td>\n",
       "      <td>126</td>\n",
       "      <td>126</td>\n",
       "      <td>98</td>\n",
       "      <td>1.0</td>\n",
       "      <td>it</td>\n",
       "      <td>http://a0.twimg.com/profile_images/3233742678/...</td>\n",
       "      <td>...</td>\n",
       "      <td>0</td>\n",
       "      <td>0</td>\n",
       "      <td>0.0</td>\n",
       "      <td>0</td>\n",
       "      <td>0</td>\n",
       "      <td>0</td>\n",
       "      <td>2011</td>\n",
       "      <td>12</td>\n",
       "      <td>27</td>\n",
       "      <td>Human</td>\n",
       "    </tr>\n",
       "    <tr>\n",
       "      <th>1162670</th>\n",
       "      <td>383292062</td>\n",
       "      <td>ilPux</td>\n",
       "      <td>MarcoPusceddu1</td>\n",
       "      <td>222</td>\n",
       "      <td>125</td>\n",
       "      <td>300</td>\n",
       "      <td>20</td>\n",
       "      <td>0.0</td>\n",
       "      <td>it</td>\n",
       "      <td>http://a0.twimg.com/profile_images/2674480298/...</td>\n",
       "      <td>...</td>\n",
       "      <td>0</td>\n",
       "      <td>213</td>\n",
       "      <td>0.0</td>\n",
       "      <td>0</td>\n",
       "      <td>0</td>\n",
       "      <td>1</td>\n",
       "      <td>2012</td>\n",
       "      <td>6</td>\n",
       "      <td>22</td>\n",
       "      <td>Human</td>\n",
       "    </tr>\n",
       "    <tr>\n",
       "      <th>2000158</th>\n",
       "      <td>154588620</td>\n",
       "      <td>eyes like catwoman</td>\n",
       "      <td>she_died</td>\n",
       "      <td>22534</td>\n",
       "      <td>715</td>\n",
       "      <td>792</td>\n",
       "      <td>141</td>\n",
       "      <td>2.0</td>\n",
       "      <td>it</td>\n",
       "      <td>http://a0.twimg.com/profile_images/3434996804/...</td>\n",
       "      <td>...</td>\n",
       "      <td>0</td>\n",
       "      <td>7</td>\n",
       "      <td>0.0</td>\n",
       "      <td>1</td>\n",
       "      <td>0</td>\n",
       "      <td>1</td>\n",
       "      <td>2013</td>\n",
       "      <td>2</td>\n",
       "      <td>17</td>\n",
       "      <td>Human</td>\n",
       "    </tr>\n",
       "  </tbody>\n",
       "</table>\n",
       "<p>5 rows × 35 columns</p>\n",
       "</div>"
      ],
      "text/plain": [
       "           user_id                name     screen_name  statuses_count  \\\n",
       "1379721  432377556      Carlo Mazzocca   carlomazzocca            1549   \n",
       "768368   206615715  Eve's Lost Control     EveBlissett            5311   \n",
       "424486    85305729        âˆ†aft Jump    iMightBeWrong            4043   \n",
       "1162670  383292062               ilPux  MarcoPusceddu1             222   \n",
       "2000158  154588620  eyes like catwoman        she_died           22534   \n",
       "\n",
       "         followers_count  friends_count  favourites_count  listed_count lang  \\\n",
       "1379721              354            214                 1           3.0   it   \n",
       "768368              1249            886               296          37.0   it   \n",
       "424486               126            126                98           1.0   it   \n",
       "1162670              125            300                20           0.0   it   \n",
       "2000158              715            792               141           2.0   it   \n",
       "\n",
       "                                         profile_image_url  ...  \\\n",
       "1379721  http://a0.twimg.com/profile_images/2684696294/...  ...   \n",
       "768368   http://a0.twimg.com/profile_images/3051400897/...  ...   \n",
       "424486   http://a0.twimg.com/profile_images/3233742678/...  ...   \n",
       "1162670  http://a0.twimg.com/profile_images/2674480298/...  ...   \n",
       "2000158  http://a0.twimg.com/profile_images/3434996804/...  ...   \n",
       "\n",
       "        in_reply_to_user_id retweet_count favorite_count num_hashtags  \\\n",
       "1379721                   0             0            0.0            1   \n",
       "768368                    0             0            1.0            1   \n",
       "424486                    0             0            0.0            0   \n",
       "1162670                   0           213            0.0            0   \n",
       "2000158                   0             7            0.0            1   \n",
       "\n",
       "        num_urls num_mentions tweet_created_year tweet_created_month  \\\n",
       "1379721        0            0               2012                   4   \n",
       "768368         1            1               2012                   6   \n",
       "424486         0            0               2011                  12   \n",
       "1162670        0            1               2012                   6   \n",
       "2000158        0            1               2013                   2   \n",
       "\n",
       "         tweet_created_day  Label  \n",
       "1379721                  1  Human  \n",
       "768368                   9  Human  \n",
       "424486                  27  Human  \n",
       "1162670                 22  Human  \n",
       "2000158                 17  Human  \n",
       "\n",
       "[5 rows x 35 columns]"
      ]
     },
     "execution_count": 7,
     "metadata": {},
     "output_type": "execute_result"
    }
   ],
   "source": [
    "df.head()"
   ]
  },
  {
   "cell_type": "code",
   "execution_count": 8,
   "id": "04104750",
   "metadata": {},
   "outputs": [],
   "source": [
    "# Dropping the rows containing the null values\n",
    "df.dropna(inplace=True)"
   ]
  },
  {
   "cell_type": "code",
   "execution_count": 9,
   "id": "50c3131d",
   "metadata": {},
   "outputs": [],
   "source": [
    "# Define the preprocessing function\n",
    "def preprocess_text(text):\n",
    "    # Convert to lowercase\n",
    "    text = text.lower()\n",
    "    # Tokenize the text\n",
    "    tokens = word_tokenize(text)\n",
    "    # Remove stop words\n",
    "    stop_words = set(stopwords.words('english'))\n",
    "    filtered_tokens = [token for token in tokens if token not in stop_words]\n",
    "    # Perform stemming\n",
    "    stemmer = PorterStemmer()\n",
    "    stemmed_tokens = [stemmer.stem(token) for token in filtered_tokens]\n",
    "    # Join the tokens back into a single string\n",
    "    preprocessed_text = ' '.join(stemmed_tokens)\n",
    "    return preprocessed_text"
   ]
  },
  {
   "cell_type": "code",
   "execution_count": 10,
   "id": "af8aab85",
   "metadata": {},
   "outputs": [],
   "source": [
    "# Apply the preprocessing function to the text column\n",
    "df['text'] = df['text'].apply(preprocess_text)"
   ]
  },
  {
   "cell_type": "code",
   "execution_count": 11,
   "id": "f66ede6c",
   "metadata": {},
   "outputs": [],
   "source": [
    "from sklearn.feature_extraction.text import CountVectorizer\n",
    "\n",
    "# Create a bag-of-words representation\n",
    "vectorizer = CountVectorizer(max_features=100)\n",
    "vectorized = vectorizer.fit_transform(df['text'])"
   ]
  },
  {
   "cell_type": "code",
   "execution_count": 12,
   "id": "5d21b0a3",
   "metadata": {},
   "outputs": [],
   "source": [
    "vectorized_data = np.array(vectorized.toarray())"
   ]
  },
  {
   "cell_type": "code",
   "execution_count": 13,
   "id": "9c0b5827",
   "metadata": {},
   "outputs": [],
   "source": [
    "vectorized_df = pd.DataFrame(vectorized_data, columns=vectorizer.get_feature_names())"
   ]
  },
  {
   "cell_type": "code",
   "execution_count": 14,
   "id": "82db55bc",
   "metadata": {},
   "outputs": [],
   "source": [
    "vectorized_df = vectorized_df.reset_index()"
   ]
  },
  {
   "cell_type": "code",
   "execution_count": 15,
   "id": "c8b71d87",
   "metadata": {},
   "outputs": [],
   "source": [
    "# vectorized_df.shape\n",
    "df = df.reset_index()"
   ]
  },
  {
   "cell_type": "code",
   "execution_count": 16,
   "id": "705cdf0a",
   "metadata": {},
   "outputs": [],
   "source": [
    "com_df = pd.concat([vectorized_df, df], axis=1)"
   ]
  },
  {
   "cell_type": "code",
   "execution_count": 17,
   "id": "8cd4cce2",
   "metadata": {},
   "outputs": [
    {
     "data": {
      "text/html": [
       "<div>\n",
       "<style scoped>\n",
       "    .dataframe tbody tr th:only-of-type {\n",
       "        vertical-align: middle;\n",
       "    }\n",
       "\n",
       "    .dataframe tbody tr th {\n",
       "        vertical-align: top;\n",
       "    }\n",
       "\n",
       "    .dataframe thead th {\n",
       "        text-align: right;\n",
       "    }\n",
       "</style>\n",
       "<table border=\"1\" class=\"dataframe\">\n",
       "  <thead>\n",
       "    <tr style=\"text-align: right;\">\n",
       "      <th></th>\n",
       "      <th>index</th>\n",
       "      <th>ad</th>\n",
       "      <th>al</th>\n",
       "      <th>all</th>\n",
       "      <th>amp</th>\n",
       "      <th>anch</th>\n",
       "      <th>back</th>\n",
       "      <th>berlusconi</th>\n",
       "      <th>che</th>\n",
       "      <th>chi</th>\n",
       "      <th>...</th>\n",
       "      <th>in_reply_to_user_id</th>\n",
       "      <th>retweet_count</th>\n",
       "      <th>favorite_count</th>\n",
       "      <th>num_hashtags</th>\n",
       "      <th>num_urls</th>\n",
       "      <th>num_mentions</th>\n",
       "      <th>tweet_created_year</th>\n",
       "      <th>tweet_created_month</th>\n",
       "      <th>tweet_created_day</th>\n",
       "      <th>Label</th>\n",
       "    </tr>\n",
       "  </thead>\n",
       "  <tbody>\n",
       "    <tr>\n",
       "      <th>0</th>\n",
       "      <td>0</td>\n",
       "      <td>0</td>\n",
       "      <td>0</td>\n",
       "      <td>0</td>\n",
       "      <td>0</td>\n",
       "      <td>0</td>\n",
       "      <td>0</td>\n",
       "      <td>0</td>\n",
       "      <td>0</td>\n",
       "      <td>0</td>\n",
       "      <td>...</td>\n",
       "      <td>0</td>\n",
       "      <td>0</td>\n",
       "      <td>0.0</td>\n",
       "      <td>1</td>\n",
       "      <td>0</td>\n",
       "      <td>0</td>\n",
       "      <td>2012</td>\n",
       "      <td>4</td>\n",
       "      <td>1</td>\n",
       "      <td>Human</td>\n",
       "    </tr>\n",
       "    <tr>\n",
       "      <th>1</th>\n",
       "      <td>1</td>\n",
       "      <td>0</td>\n",
       "      <td>0</td>\n",
       "      <td>0</td>\n",
       "      <td>0</td>\n",
       "      <td>0</td>\n",
       "      <td>0</td>\n",
       "      <td>0</td>\n",
       "      <td>0</td>\n",
       "      <td>0</td>\n",
       "      <td>...</td>\n",
       "      <td>0</td>\n",
       "      <td>0</td>\n",
       "      <td>1.0</td>\n",
       "      <td>1</td>\n",
       "      <td>1</td>\n",
       "      <td>1</td>\n",
       "      <td>2012</td>\n",
       "      <td>6</td>\n",
       "      <td>9</td>\n",
       "      <td>Human</td>\n",
       "    </tr>\n",
       "    <tr>\n",
       "      <th>2</th>\n",
       "      <td>2</td>\n",
       "      <td>0</td>\n",
       "      <td>0</td>\n",
       "      <td>0</td>\n",
       "      <td>0</td>\n",
       "      <td>0</td>\n",
       "      <td>0</td>\n",
       "      <td>0</td>\n",
       "      <td>1</td>\n",
       "      <td>0</td>\n",
       "      <td>...</td>\n",
       "      <td>0</td>\n",
       "      <td>0</td>\n",
       "      <td>0.0</td>\n",
       "      <td>0</td>\n",
       "      <td>0</td>\n",
       "      <td>0</td>\n",
       "      <td>2011</td>\n",
       "      <td>12</td>\n",
       "      <td>27</td>\n",
       "      <td>Human</td>\n",
       "    </tr>\n",
       "    <tr>\n",
       "      <th>3</th>\n",
       "      <td>3</td>\n",
       "      <td>0</td>\n",
       "      <td>0</td>\n",
       "      <td>0</td>\n",
       "      <td>0</td>\n",
       "      <td>0</td>\n",
       "      <td>0</td>\n",
       "      <td>0</td>\n",
       "      <td>0</td>\n",
       "      <td>0</td>\n",
       "      <td>...</td>\n",
       "      <td>0</td>\n",
       "      <td>213</td>\n",
       "      <td>0.0</td>\n",
       "      <td>0</td>\n",
       "      <td>0</td>\n",
       "      <td>1</td>\n",
       "      <td>2012</td>\n",
       "      <td>6</td>\n",
       "      <td>22</td>\n",
       "      <td>Human</td>\n",
       "    </tr>\n",
       "    <tr>\n",
       "      <th>4</th>\n",
       "      <td>4</td>\n",
       "      <td>0</td>\n",
       "      <td>0</td>\n",
       "      <td>0</td>\n",
       "      <td>0</td>\n",
       "      <td>0</td>\n",
       "      <td>0</td>\n",
       "      <td>0</td>\n",
       "      <td>0</td>\n",
       "      <td>0</td>\n",
       "      <td>...</td>\n",
       "      <td>0</td>\n",
       "      <td>7</td>\n",
       "      <td>0.0</td>\n",
       "      <td>1</td>\n",
       "      <td>0</td>\n",
       "      <td>1</td>\n",
       "      <td>2013</td>\n",
       "      <td>2</td>\n",
       "      <td>17</td>\n",
       "      <td>Human</td>\n",
       "    </tr>\n",
       "  </tbody>\n",
       "</table>\n",
       "<p>5 rows × 137 columns</p>\n",
       "</div>"
      ],
      "text/plain": [
       "   index  ad  al  all  amp  anch  back  berlusconi  che  chi  ...  \\\n",
       "0      0   0   0    0    0     0     0           0    0    0  ...   \n",
       "1      1   0   0    0    0     0     0           0    0    0  ...   \n",
       "2      2   0   0    0    0     0     0           0    1    0  ...   \n",
       "3      3   0   0    0    0     0     0           0    0    0  ...   \n",
       "4      4   0   0    0    0     0     0           0    0    0  ...   \n",
       "\n",
       "   in_reply_to_user_id  retweet_count  favorite_count  num_hashtags  num_urls  \\\n",
       "0                    0              0             0.0             1         0   \n",
       "1                    0              0             1.0             1         1   \n",
       "2                    0              0             0.0             0         0   \n",
       "3                    0            213             0.0             0         0   \n",
       "4                    0              7             0.0             1         0   \n",
       "\n",
       "   num_mentions  tweet_created_year  tweet_created_month  tweet_created_day  \\\n",
       "0             0                2012                    4                  1   \n",
       "1             1                2012                    6                  9   \n",
       "2             0                2011                   12                 27   \n",
       "3             1                2012                    6                 22   \n",
       "4             1                2013                    2                 17   \n",
       "\n",
       "   Label  \n",
       "0  Human  \n",
       "1  Human  \n",
       "2  Human  \n",
       "3  Human  \n",
       "4  Human  \n",
       "\n",
       "[5 rows x 137 columns]"
      ]
     },
     "execution_count": 17,
     "metadata": {},
     "output_type": "execute_result"
    }
   ],
   "source": [
    "com_df.head()"
   ]
  },
  {
   "cell_type": "code",
   "execution_count": 18,
   "id": "f70985d1",
   "metadata": {},
   "outputs": [],
   "source": [
    "com_df.drop('index', axis=1, inplace=True)"
   ]
  },
  {
   "cell_type": "code",
   "execution_count": 19,
   "id": "c035481d",
   "metadata": {},
   "outputs": [
    {
     "name": "stdout",
     "output_type": "stream",
     "text": [
      "name\n",
      "screen_name\n",
      "lang\n",
      "profile_image_url\n",
      "profile_background_image_url_https\n",
      "profile_text_color\n",
      "profile_image_url_https\n",
      "profile_sidebar_border_color\n",
      "profile_sidebar_fill_color\n",
      "profile_background_image_url\n",
      "profile_background_color\n",
      "profile_link_color\n",
      "text\n",
      "source\n",
      "Label\n"
     ]
    }
   ],
   "source": [
    "from sklearn.preprocessing import LabelEncoder\n",
    "\n",
    "# Label encoding the column containing the string type data\n",
    "str_type_col = [col for col in com_df.columns if com_df[col].dtype == object]\n",
    "\n",
    "le_dic = {}\n",
    "for col in str_type_col:\n",
    "    print(col)\n",
    "    le = LabelEncoder()\n",
    "    com_df[col] = le.fit_transform(com_df[col].astype(str))\n",
    "    le_dic[col] = le"
   ]
  },
  {
   "cell_type": "code",
   "execution_count": 20,
   "id": "1f358be1",
   "metadata": {},
   "outputs": [
    {
     "data": {
      "text/plain": [
       "index                                 3967\n",
       "user_id                               1743\n",
       "name                                  1736\n",
       "screen_name                           1743\n",
       "statuses_count                        1035\n",
       "followers_count                        543\n",
       "friends_count                          827\n",
       "favourites_count                       414\n",
       "listed_count                            80\n",
       "lang                                    13\n",
       "profile_image_url                     1741\n",
       "profile_background_image_url_https     574\n",
       "profile_text_color                     151\n",
       "profile_image_url_https               1741\n",
       "profile_sidebar_border_color           106\n",
       "profile_sidebar_fill_color             168\n",
       "profile_background_image_url           563\n",
       "profile_background_color               210\n",
       "profile_link_color                     289\n",
       "account_creation_day                    31\n",
       "account_creation_month                  12\n",
       "account_creation_year                    8\n",
       "id                                    4000\n",
       "text                                  3973\n",
       "source                                 140\n",
       "in_reply_to_status_id                  705\n",
       "in_reply_to_user_id                    739\n",
       "retweet_count                          317\n",
       "favorite_count                          56\n",
       "num_hashtags                            10\n",
       "num_urls                                 3\n",
       "num_mentions                            11\n",
       "tweet_created_year                       5\n",
       "tweet_created_month                     12\n",
       "tweet_created_day                       31\n",
       "Label                                    2\n",
       "dtype: int64"
      ]
     },
     "execution_count": 20,
     "metadata": {},
     "output_type": "execute_result"
    }
   ],
   "source": [
    "df.nunique()"
   ]
  },
  {
   "cell_type": "code",
   "execution_count": 21,
   "id": "5b021ade",
   "metadata": {},
   "outputs": [
    {
     "name": "stdout",
     "output_type": "stream",
     "text": [
      "Train data: (2680, 134)\n",
      "Test data: (1320, 134)\n"
     ]
    }
   ],
   "source": [
    "from sklearn.model_selection import train_test_split\n",
    "\n",
    "# Extract the target and feature columns\n",
    "X = com_df.iloc[:,:-1]\n",
    "y = com_df.iloc[:, -1]\n",
    "\n",
    "# Spliting the dataset into train and test dataset\n",
    "X_train, X_test, y_train, y_test = train_test_split(X, y, test_size=0.33, random_state=42)\n",
    "\n",
    "# Displaying the train and test data shape\n",
    "print(\"Train data:\", X_train.shape)\n",
    "print(\"Test data:\", X_test.shape)"
   ]
  },
  {
   "cell_type": "code",
   "execution_count": 22,
   "id": "8debd162",
   "metadata": {},
   "outputs": [],
   "source": [
    "# Models Importing\n",
    "from sklearn.linear_model import LogisticRegression\n",
    "from sklearn.ensemble import RandomForestClassifier\n",
    "from sklearn.tree import DecisionTreeClassifier\n",
    "from sklearn.naive_bayes import MultinomialNB\n",
    "\n",
    "# For Model Evaluation\n",
    "from sklearn.metrics import classification_report, confusion_matrix, accuracy_score, precision_score, recall_score, f1_score"
   ]
  },
  {
   "cell_type": "code",
   "execution_count": 23,
   "id": "e471a52d",
   "metadata": {},
   "outputs": [],
   "source": [
    "# function for evaluation metrics precision, recall, f1 etc\n",
    "def modelEvaluation(predictions, y_test_set, model_name):\n",
    "    # Print model evaluation to predicted result    \n",
    "    print(\"==========\",model_name,\"==========\")\n",
    "    print (\"\\nAccuracy on validation set: {:.4f}\".format(accuracy_score(y_test_set, predictions)))    \n",
    "    print (\"\\nClassification report : \\n\", classification_report(y_test_set, predictions))\n",
    "    print (\"\\nConfusion Matrix : \\n\", confusion_matrix(y_test_set, predictions))\n",
    "    plt.figure(figsize=(6,4))\n",
    "    sns.heatmap(confusion_matrix(y_test_set, predictions),annot=True, fmt='g',cmap='viridis')\n",
    "    plt.tight_layout()\n",
    "    plt.show()\n",
    "    results = [accuracy_score(y_test_set, predictions), precision_score(y_test_set, predictions, average='macro'),\n",
    "              recall_score(y_test_set, predictions, average='macro'),f1_score(y_test_set, predictions, average='macro')]\n",
    "    return results"
   ]
  },
  {
   "cell_type": "code",
   "execution_count": 24,
   "id": "7c982c37",
   "metadata": {},
   "outputs": [
    {
     "name": "stdout",
     "output_type": "stream",
     "text": [
      "========== Decision tree ==========\n",
      "\n",
      "Accuracy on validation set: 0.9212\n",
      "\n",
      "Classification report : \n",
      "               precision    recall  f1-score   support\n",
      "\n",
      "           0       0.94      0.96      0.95       970\n",
      "           1       0.88      0.82      0.85       350\n",
      "\n",
      "    accuracy                           0.92      1320\n",
      "   macro avg       0.91      0.89      0.90      1320\n",
      "weighted avg       0.92      0.92      0.92      1320\n",
      "\n",
      "\n",
      "Confusion Matrix : \n",
      " [[930  40]\n",
      " [ 64 286]]\n"
     ]
    },
    {
     "data": {
      "image/png": "[encoded data removed]",
      "text/plain": [
       "<Figure size 432x288 with 2 Axes>"
      ]
     },
     "metadata": {
      "needs_background": "light"
     },
     "output_type": "display_data"
    },
    {
     "name": "stdout",
     "output_type": "stream",
     "text": [
      "========== Random Forest ==========\n",
      "\n",
      "Accuracy on validation set: 0.9424\n",
      "\n",
      "Classification report : \n",
      "               precision    recall  f1-score   support\n",
      "\n",
      "           0       0.94      0.99      0.96       970\n",
      "           1       0.96      0.81      0.88       350\n",
      "\n",
      "    accuracy                           0.94      1320\n",
      "   macro avg       0.95      0.90      0.92      1320\n",
      "weighted avg       0.94      0.94      0.94      1320\n",
      "\n",
      "\n",
      "Confusion Matrix : \n",
      " [[959  11]\n",
      " [ 65 285]]\n"
     ]
    },
    {
     "data": {
      "image/png": "[encoded data removed]",
      "text/plain": [
       "<Figure size 432x288 with 2 Axes>"
      ]
     },
     "metadata": {
      "needs_background": "light"
     },
     "output_type": "display_data"
    },
    {
     "name": "stdout",
     "output_type": "stream",
     "text": [
      "========== Naive Bayes ==========\n",
      "\n",
      "Accuracy on validation set: 0.7023\n",
      "\n",
      "Classification report : \n",
      "               precision    recall  f1-score   support\n",
      "\n",
      "           0       0.77      0.85      0.81       970\n",
      "           1       0.41      0.29      0.34       350\n",
      "\n",
      "    accuracy                           0.70      1320\n",
      "   macro avg       0.59      0.57      0.57      1320\n",
      "weighted avg       0.67      0.70      0.68      1320\n",
      "\n",
      "\n",
      "Confusion Matrix : \n",
      " [[827 143]\n",
      " [250 100]]\n"
     ]
    },
    {
     "data": {
      "image/png": "[encoded data removed]",
      "text/plain": [
       "<Figure size 432x288 with 2 Axes>"
      ]
     },
     "metadata": {
      "needs_background": "light"
     },
     "output_type": "display_data"
    },
    {
     "name": "stdout",
     "output_type": "stream",
     "text": [
      "========== Logistic Regression ==========\n",
      "\n",
      "Accuracy on validation set: 0.7348\n",
      "\n",
      "Classification report : \n",
      "               precision    recall  f1-score   support\n",
      "\n",
      "           0       0.73      1.00      0.85       970\n",
      "           1       0.00      0.00      0.00       350\n",
      "\n",
      "    accuracy                           0.73      1320\n",
      "   macro avg       0.37      0.50      0.42      1320\n",
      "weighted avg       0.54      0.73      0.62      1320\n",
      "\n",
      "\n",
      "Confusion Matrix : \n",
      " [[970   0]\n",
      " [350   0]]\n"
     ]
    },
    {
     "data": {
      "image/png": "[encoded data removed]",
      "text/plain": [
       "<Figure size 432x288 with 2 Axes>"
      ]
     },
     "metadata": {
      "needs_background": "light"
     },
     "output_type": "display_data"
    }
   ],
   "source": [
    "# For Decision tree Classifier\n",
    "dt_model = DecisionTreeClassifier()\n",
    "dt_model.fit(X_train, y_train)\n",
    "pred_dt = dt_model.predict(X_test)\n",
    "result_dt = modelEvaluation(pred_dt, y_test, 'Decision tree')\n",
    "\n",
    "# For Random Forest Classifier\n",
    "rf_model = RandomForestClassifier()\n",
    "rf_model.fit(X_train, y_train)\n",
    "pred_rf = rf_model.predict(X_test)\n",
    "result_rf = modelEvaluation(pred_rf, y_test, 'Random Forest')\n",
    "\n",
    "# Naive Bayes Classifier\n",
    "nb_model = MultinomialNB()\n",
    "nb_model.fit(X_train,y_train)\n",
    "pred_nb = nb_model.predict(X_test)\n",
    "results_nb = modelEvaluation(pred_nb, y_test, 'Naive Bayes')\n",
    "\n",
    "# For Logistic Regression Classifier\n",
    "lr_model = LogisticRegression()\n",
    "lr_model.fit(X_train, y_train)\n",
    "pred_lr = lr_model.predict(X_test)\n",
    "results_lr = modelEvaluation(pred_lr, y_test, 'Logistic Regression')"
   ]
  },
  {
   "cell_type": "code",
   "execution_count": 25,
   "id": "c9fcf74d",
   "metadata": {},
   "outputs": [],
   "source": [
    "# Defining Hyperparameters grid\n",
    "rfc_param = {\n",
    "    'n_estimators': [100, 200, 500],\n",
    "    'max_depth': [None, 5, 10]}\n",
    "\n",
    "mnb_param = {'alpha': [0.1, 0.5, 1.0, 2.0]}\n",
    "\n",
    "lg_param = {\n",
    "    'C': [0.001, 0.01, 0.1, 1, 10, 100],\n",
    "    'penalty': ['l1', 'l2', 'elasticnet']}\n",
    "\n",
    "dt_param = {\n",
    "    'criterion': ['gini', 'entropy'],\n",
    "    'max_depth': [None, 5, 10, 20],\n",
    "    'min_samples_split': [2, 5, 10],\n",
    "    'min_samples_leaf': [1, 2, 4]}"
   ]
  },
  {
   "cell_type": "code",
   "execution_count": 26,
   "id": "d1fd1faf",
   "metadata": {},
   "outputs": [],
   "source": [
    "# Initializing grid search CV to find the best parameters for each model.\n",
    "rfc_grid_search = GridSearchCV(estimator=rf_model, param_grid=rfc_param, cv=5)\n",
    "nb_grid_search = GridSearchCV(estimator=nb_model, param_grid= mnb_param, cv=5)\n",
    "lr_grid_search = GridSearchCV(estimator=lr_model, param_grid=lg_param, cv=5)\n",
    "dt_grid_search = GridSearchCV(estimator=dt_model, param_grid=dt_param, cv=5)"
   ]
  },
  {
   "cell_type": "code",
   "execution_count": 28,
   "id": "18c99e81",
   "metadata": {},
   "outputs": [
    {
     "data": {
      "text/plain": [
       "GridSearchCV(cv=5, error_score=nan,\n",
       "             estimator=LogisticRegression(C=1.0, class_weight=None, dual=False,\n",
       "                                          fit_intercept=True,\n",
       "                                          intercept_scaling=1, l1_ratio=None,\n",
       "                                          max_iter=100, multi_class='auto',\n",
       "                                          n_jobs=None, penalty='l2',\n",
       "                                          random_state=None, solver='lbfgs',\n",
       "                                          tol=0.0001, verbose=0,\n",
       "                                          warm_start=False),\n",
       "             iid='deprecated', n_jobs=None,\n",
       "             param_grid={'C': [0.001, 0.01, 0.1, 1, 10, 100],\n",
       "                         'penalty': ['l1', 'l2', 'elasticnet']},\n",
       "             pre_dispatch='2*n_jobs', refit=True, return_train_score=False,\n",
       "             scoring=None, verbose=0)"
      ]
     },
     "execution_count": 28,
     "metadata": {},
     "output_type": "execute_result"
    }
   ],
   "source": [
    "# Searching for Best Parameters\n",
    "rfc_grid_search.fit(X, y)\n",
    "dt_grid_search.fit(X, y)\n",
    "nb_grid_search.fit(X, y)\n",
    "lr_grid_search.fit(X, y)"
   ]
  },
  {
   "cell_type": "code",
   "execution_count": 29,
   "id": "ad6b78f4",
   "metadata": {},
   "outputs": [
    {
     "name": "stdout",
     "output_type": "stream",
     "text": [
      "Best Parameters for Random Forest {'max_depth': None, 'n_estimators': 200}\n",
      "-------------------------------\n",
      "Best Parameters for Naive Bayes {'alpha': 0.1}\n",
      "-------------------------------\n",
      "Best Parameters for Logistic Regression {'C': 0.001, 'penalty': 'l2'}\n",
      "-------------------------------\n",
      "Best Parameters for Decision Tree {'criterion': 'entropy', 'max_depth': 20, 'min_samples_leaf': 2, 'min_samples_split': 5}\n",
      "-------------------------------\n"
     ]
    }
   ],
   "source": [
    "rfc_best_params = rfc_grid_search.best_params_\n",
    "nb_best_params = nb_grid_search.best_params_\n",
    "lr_best_params = lr_grid_search.best_params_\n",
    "dt_best_params = dt_grid_search.best_params_\n",
    "print('Best Parameters for Random Forest', rfc_best_params, end = '\\n-------------------------------\\n')\n",
    "print('Best Parameters for Naive Bayes', nb_best_params, end = '\\n-------------------------------\\n')\n",
    "print('Best Parameters for Logistic Regression', lr_best_params, end = '\\n-------------------------------\\n')\n",
    "print('Best Parameters for Decision Tree', dt_best_params, end = '\\n-------------------------------\\n')"
   ]
  },
  {
   "cell_type": "code",
   "execution_count": 30,
   "id": "6e1faa56",
   "metadata": {},
   "outputs": [
    {
     "name": "stdout",
     "output_type": "stream",
     "text": [
      "========== Decision tree ==========\n",
      "\n",
      "Accuracy on validation set: 0.9242\n",
      "\n",
      "Classification report : \n",
      "               precision    recall  f1-score   support\n",
      "\n",
      "           0       0.94      0.96      0.95       970\n",
      "           1       0.88      0.83      0.85       350\n",
      "\n",
      "    accuracy                           0.92      1320\n",
      "   macro avg       0.91      0.89      0.90      1320\n",
      "weighted avg       0.92      0.92      0.92      1320\n",
      "\n",
      "\n",
      "Confusion Matrix : \n",
      " [[931  39]\n",
      " [ 61 289]]\n"
     ]
    },
    {
     "data": {
      "image/png": "[encoded data removed]",
      "text/plain": [
       "<Figure size 432x288 with 2 Axes>"
      ]
     },
     "metadata": {
      "needs_background": "light"
     },
     "output_type": "display_data"
    },
    {
     "name": "stdout",
     "output_type": "stream",
     "text": [
      "========== Random Forest ==========\n",
      "\n",
      "Accuracy on validation set: 0.9462\n",
      "\n",
      "Classification report : \n",
      "               precision    recall  f1-score   support\n",
      "\n",
      "           0       0.94      0.99      0.96       970\n",
      "           1       0.96      0.83      0.89       350\n",
      "\n",
      "    accuracy                           0.95      1320\n",
      "   macro avg       0.95      0.91      0.93      1320\n",
      "weighted avg       0.95      0.95      0.94      1320\n",
      "\n",
      "\n",
      "Confusion Matrix : \n",
      " [[957  13]\n",
      " [ 58 292]]\n"
     ]
    },
    {
     "data": {
      "image/png": "[encoded data removed]",
      "text/plain": [
       "<Figure size 432x288 with 2 Axes>"
      ]
     },
     "metadata": {
      "needs_background": "light"
     },
     "output_type": "display_data"
    },
    {
     "name": "stdout",
     "output_type": "stream",
     "text": [
      "========== Naive Bayes ==========\n",
      "\n",
      "Accuracy on validation set: 0.7023\n",
      "\n",
      "Classification report : \n",
      "               precision    recall  f1-score   support\n",
      "\n",
      "           0       0.77      0.85      0.81       970\n",
      "           1       0.41      0.29      0.34       350\n",
      "\n",
      "    accuracy                           0.70      1320\n",
      "   macro avg       0.59      0.57      0.57      1320\n",
      "weighted avg       0.67      0.70      0.68      1320\n",
      "\n",
      "\n",
      "Confusion Matrix : \n",
      " [[827 143]\n",
      " [250 100]]\n"
     ]
    },
    {
     "data": {
      "image/png": "[encoded data removed]",
      "text/plain": [
       "<Figure size 432x288 with 2 Axes>"
      ]
     },
     "metadata": {
      "needs_background": "light"
     },
     "output_type": "display_data"
    },
    {
     "name": "stdout",
     "output_type": "stream",
     "text": [
      "========== Logistic Regression ==========\n",
      "\n",
      "Accuracy on validation set: 0.7348\n",
      "\n",
      "Classification report : \n",
      "               precision    recall  f1-score   support\n",
      "\n",
      "           0       0.73      1.00      0.85       970\n",
      "           1       0.00      0.00      0.00       350\n",
      "\n",
      "    accuracy                           0.73      1320\n",
      "   macro avg       0.37      0.50      0.42      1320\n",
      "weighted avg       0.54      0.73      0.62      1320\n",
      "\n",
      "\n",
      "Confusion Matrix : \n",
      " [[970   0]\n",
      " [350   0]]\n"
     ]
    },
    {
     "data": {
      "image/png": "[encoded data removed]",
      "text/plain": [
       "<Figure size 432x288 with 2 Axes>"
      ]
     },
     "metadata": {
      "needs_background": "light"
     },
     "output_type": "display_data"
    }
   ],
   "source": [
    "# For Decision tree Classifier\n",
    "dt_model = DecisionTreeClassifier(**dt_best_params)\n",
    "dt_model.fit(X_train, y_train)\n",
    "pred_dt = dt_model.predict(X_test)\n",
    "result_dt2 = modelEvaluation(pred_dt, y_test, 'Decision tree')\n",
    "\n",
    "# For Random Forest Classifier\n",
    "rf_model = RandomForestClassifier(**rfc_best_params)\n",
    "rf_model.fit(X_train, y_train)\n",
    "pred_rf = rf_model.predict(X_test)\n",
    "result_rf2 = modelEvaluation(pred_rf, y_test, 'Random Forest')\n",
    "\n",
    "# Naive Bayes Classifier\n",
    "nb_model = MultinomialNB(**nb_best_params)\n",
    "nb_model.fit(X_train,y_train)\n",
    "pred_nb = nb_model.predict(X_test)\n",
    "results_nb2 = modelEvaluation(pred_nb, y_test, 'Naive Bayes')\n",
    "\n",
    "# For Logistic Regression Classifier\n",
    "lr_model = LogisticRegression(**lr_best_params)\n",
    "lr_model.fit(X_train, y_train)\n",
    "pred_lr = lr_model.predict(X_test)\n",
    "results_lr2 = modelEvaluation(pred_lr, y_test, 'Logistic Regression')"
   ]
  },
  {
   "cell_type": "code",
   "execution_count": 31,
   "id": "7b7f14a5",
   "metadata": {},
   "outputs": [
    {
     "data": {
      "text/html": [
       "<div>\n",
       "<style scoped>\n",
       "    .dataframe tbody tr th:only-of-type {\n",
       "        vertical-align: middle;\n",
       "    }\n",
       "\n",
       "    .dataframe tbody tr th {\n",
       "        vertical-align: top;\n",
       "    }\n",
       "\n",
       "    .dataframe thead th {\n",
       "        text-align: right;\n",
       "    }\n",
       "</style>\n",
       "<table border=\"1\" class=\"dataframe\">\n",
       "  <thead>\n",
       "    <tr style=\"text-align: right;\">\n",
       "      <th></th>\n",
       "      <th>Models</th>\n",
       "      <th>Accuracy B/T</th>\n",
       "      <th>Accuracy A/T</th>\n",
       "      <th>Percision B/T</th>\n",
       "      <th>Percision A/T</th>\n",
       "      <th>Recall B/T</th>\n",
       "      <th>Recall A/T</th>\n",
       "      <th>F1-score B/T</th>\n",
       "      <th>F1-score A/T</th>\n",
       "    </tr>\n",
       "  </thead>\n",
       "  <tbody>\n",
       "    <tr>\n",
       "      <th>0</th>\n",
       "      <td>Decision Tree</td>\n",
       "      <td>0.921212</td>\n",
       "      <td>0.924242</td>\n",
       "      <td>0.906457</td>\n",
       "      <td>0.909803</td>\n",
       "      <td>0.887953</td>\n",
       "      <td>0.892754</td>\n",
       "      <td>0.896600</td>\n",
       "      <td>0.900769</td>\n",
       "    </tr>\n",
       "    <tr>\n",
       "      <th>1</th>\n",
       "      <td>Random Forest</td>\n",
       "      <td>0.942424</td>\n",
       "      <td>0.946212</td>\n",
       "      <td>0.949681</td>\n",
       "      <td>0.950117</td>\n",
       "      <td>0.901473</td>\n",
       "      <td>0.910442</td>\n",
       "      <td>0.922119</td>\n",
       "      <td>0.927917</td>\n",
       "    </tr>\n",
       "    <tr>\n",
       "      <th>2</th>\n",
       "      <td>Naive Bayes</td>\n",
       "      <td>0.702273</td>\n",
       "      <td>0.702273</td>\n",
       "      <td>0.589698</td>\n",
       "      <td>0.589698</td>\n",
       "      <td>0.569146</td>\n",
       "      <td>0.569146</td>\n",
       "      <td>0.572640</td>\n",
       "      <td>0.572640</td>\n",
       "    </tr>\n",
       "    <tr>\n",
       "      <th>3</th>\n",
       "      <td>Logistic Regression</td>\n",
       "      <td>0.734848</td>\n",
       "      <td>0.734848</td>\n",
       "      <td>0.367424</td>\n",
       "      <td>0.367424</td>\n",
       "      <td>0.500000</td>\n",
       "      <td>0.500000</td>\n",
       "      <td>0.423581</td>\n",
       "      <td>0.423581</td>\n",
       "    </tr>\n",
       "  </tbody>\n",
       "</table>\n",
       "</div>"
      ],
      "text/plain": [
       "                Models  Accuracy B/T  Accuracy A/T  Percision B/T  \\\n",
       "0        Decision Tree      0.921212      0.924242       0.906457   \n",
       "1        Random Forest      0.942424      0.946212       0.949681   \n",
       "2          Naive Bayes      0.702273      0.702273       0.589698   \n",
       "3  Logistic Regression      0.734848      0.734848       0.367424   \n",
       "\n",
       "   Percision A/T  Recall B/T  Recall A/T  F1-score B/T  F1-score A/T  \n",
       "0       0.909803    0.887953    0.892754      0.896600      0.900769  \n",
       "1       0.950117    0.901473    0.910442      0.922119      0.927917  \n",
       "2       0.589698    0.569146    0.569146      0.572640      0.572640  \n",
       "3       0.367424    0.500000    0.500000      0.423581      0.423581  "
      ]
     },
     "execution_count": 31,
     "metadata": {},
     "output_type": "execute_result"
    }
   ],
   "source": [
    "comparison = {'Models': ['Decision Tree', 'Random Forest', 'Naive Bayes', 'Logistic Regression'],\n",
    "             'Accuracy B/T': [result_dt[0], result_rf[0], results_nb[0], results_lr[0]],\n",
    "             'Accuracy A/T': [result_dt2[0], result_rf2[0], results_nb2[0], results_lr2[0]],\n",
    "              'Percision B/T': [result_dt[1], result_rf[1], results_nb[1], results_lr[1]],\n",
    "             'Percision A/T': [result_dt2[1], result_rf2[1], results_nb2[1], results_lr2[1]],\n",
    "             'Recall B/T': [result_dt[2], result_rf[2], results_nb[2], results_lr[2]],\n",
    "             'Recall A/T': [result_dt2[2], result_rf2[2], results_nb2[2], results_lr2[2]],\n",
    "             'F1-score B/T': [result_dt[3], result_rf[3], results_nb[3], results_lr[3]],\n",
    "             'F1-score A/T': [result_dt2[3], result_rf2[3], results_nb2[3], results_lr2[3]]}\n",
    "df_acc = pd.DataFrame(comparison)\n",
    "df_acc"
   ]
  },
  {
   "cell_type": "code",
   "execution_count": 32,
   "id": "e7c4ced1",
   "metadata": {},
   "outputs": [
    {
     "data": {
      "text/plain": [
       "<matplotlib.axes._subplots.AxesSubplot at 0x15cb6ad8708>"
      ]
     },
     "execution_count": 32,
     "metadata": {},
     "output_type": "execute_result"
    },
    {
     "data": {
      "image/png": "[encoded data removed]",
      "text/plain": [
       "<Figure size 1080x504 with 1 Axes>"
      ]
     },
     "metadata": {
      "needs_background": "light"
     },
     "output_type": "display_data"
    }
   ],
   "source": [
    "df_acc.set_index(\"Models\").plot(kind='bar', figsize=(15,7))"
   ]
  },
  {
   "cell_type": "code",
   "execution_count": 33,
   "id": "937c286c",
   "metadata": {},
   "outputs": [
    {
     "name": "stdout",
     "output_type": "stream",
     "text": [
      "========== SVM ==========\n",
      "\n",
      "Accuracy on validation set: 0.7348\n",
      "\n",
      "Classification report : \n",
      "               precision    recall  f1-score   support\n",
      "\n",
      "           0       0.73      1.00      0.85       970\n",
      "           1       0.00      0.00      0.00       350\n",
      "\n",
      "    accuracy                           0.73      1320\n",
      "   macro avg       0.37      0.50      0.42      1320\n",
      "weighted avg       0.54      0.73      0.62      1320\n",
      "\n",
      "\n",
      "Confusion Matrix : \n",
      " [[970   0]\n",
      " [350   0]]\n"
     ]
    },
    {
     "data": {
      "image/png": "[encoded data removed]",
      "text/plain": [
       "<Figure size 432x288 with 2 Axes>"
      ]
     },
     "metadata": {
      "needs_background": "light"
     },
     "output_type": "display_data"
    }
   ],
   "source": [
    "from sklearn.svm import SVC\n",
    "\n",
    "# Create the SVM model\n",
    "svm_model = SVC()\n",
    "\n",
    "# Fit the model to the training data\n",
    "svm_model.fit(X_train, y_train)\n",
    "\n",
    "# Make predictions on the test data\n",
    "pred_svm = svm_model.predict(X_test)\n",
    "\n",
    "# Evaluate the model\n",
    "results_svm = modelEvaluation(pred_svm, y_test, 'SVM')"
   ]
  },
  {
   "cell_type": "code",
   "execution_count": 34,
   "id": "c3a21f2f",
   "metadata": {},
   "outputs": [
    {
     "name": "stdout",
     "output_type": "stream",
     "text": [
      "========== GBM ==========\n",
      "\n",
      "Accuracy on validation set: 0.9303\n",
      "\n",
      "Classification report : \n",
      "               precision    recall  f1-score   support\n",
      "\n",
      "           0       0.94      0.97      0.95       970\n",
      "           1       0.91      0.82      0.86       350\n",
      "\n",
      "    accuracy                           0.93      1320\n",
      "   macro avg       0.92      0.90      0.91      1320\n",
      "weighted avg       0.93      0.93      0.93      1320\n",
      "\n",
      "\n",
      "Confusion Matrix : \n",
      " [[940  30]\n",
      " [ 62 288]]\n"
     ]
    },
    {
     "data": {
      "image/png": "[encoded data removed]",
      "text/plain": [
       "<Figure size 432x288 with 2 Axes>"
      ]
     },
     "metadata": {
      "needs_background": "light"
     },
     "output_type": "display_data"
    }
   ],
   "source": [
    "from sklearn.ensemble import GradientBoostingClassifier\n",
    "\n",
    "# Create the GBM model\n",
    "gbm_model = GradientBoostingClassifier()\n",
    "\n",
    "# Fit the model to the training data\n",
    "gbm_model.fit(X_train, y_train)\n",
    "\n",
    "# Make predictions on the test data\n",
    "pred_gbm = gbm_model.predict(X_test)\n",
    "\n",
    "# Evaluate the model\n",
    "results_gbm = modelEvaluation(pred_gbm, y_test, 'GBM')"
   ]
  },
  {
   "cell_type": "code",
   "execution_count": 37,
   "id": "7ccaa56c",
   "metadata": {},
   "outputs": [
    {
     "name": "stdout",
     "output_type": "stream",
     "text": [
      "========== Neural Network ==========\n",
      "\n",
      "Accuracy on validation set: 0.7303\n",
      "\n",
      "Classification report : \n",
      "               precision    recall  f1-score   support\n",
      "\n",
      "           0       0.73      0.99      0.84       970\n",
      "           1       0.00      0.00      0.00       350\n",
      "\n",
      "    accuracy                           0.73      1320\n",
      "   macro avg       0.37      0.50      0.42      1320\n",
      "weighted avg       0.54      0.73      0.62      1320\n",
      "\n",
      "\n",
      "Confusion Matrix : \n",
      " [[964   6]\n",
      " [350   0]]\n"
     ]
    },
    {
     "data": {
      "image/png": "[encoded data removed]",
      "text/plain": [
       "<Figure size 432x288 with 2 Axes>"
      ]
     },
     "metadata": {
      "needs_background": "light"
     },
     "output_type": "display_data"
    }
   ],
   "source": [
    "from sklearn.neural_network import MLPClassifier\n",
    "\n",
    "# Create the Neural Network model\n",
    "nn_model = MLPClassifier()\n",
    "\n",
    "# Fit the model to the training data\n",
    "nn_model.fit(X_train, y_train)\n",
    "\n",
    "# Make predictions on the test data\n",
    "pred_nn = nn_model.predict(X_test)\n",
    "\n",
    "# Evaluate the model\n",
    "results_nn = modelEvaluation(pred_nn, y_test, 'Neural Network')"
   ]
  },
  {
   "cell_type": "code",
   "execution_count": 41,
   "id": "e9b5436f",
   "metadata": {},
   "outputs": [
    {
     "data": {
      "text/html": [
       "<div>\n",
       "<style scoped>\n",
       "    .dataframe tbody tr th:only-of-type {\n",
       "        vertical-align: middle;\n",
       "    }\n",
       "\n",
       "    .dataframe tbody tr th {\n",
       "        vertical-align: top;\n",
       "    }\n",
       "\n",
       "    .dataframe thead th {\n",
       "        text-align: right;\n",
       "    }\n",
       "</style>\n",
       "<table border=\"1\" class=\"dataframe\">\n",
       "  <thead>\n",
       "    <tr style=\"text-align: right;\">\n",
       "      <th></th>\n",
       "      <th>Models</th>\n",
       "      <th>Accuracy</th>\n",
       "      <th>Precision</th>\n",
       "      <th>Recall</th>\n",
       "      <th>F1-score</th>\n",
       "    </tr>\n",
       "  </thead>\n",
       "  <tbody>\n",
       "    <tr>\n",
       "      <th>0</th>\n",
       "      <td>SVM</td>\n",
       "      <td>0.734848</td>\n",
       "      <td>0.367424</td>\n",
       "      <td>0.500000</td>\n",
       "      <td>0.423581</td>\n",
       "    </tr>\n",
       "    <tr>\n",
       "      <th>1</th>\n",
       "      <td>GradientBoosting</td>\n",
       "      <td>0.930303</td>\n",
       "      <td>0.921892</td>\n",
       "      <td>0.895965</td>\n",
       "      <td>0.907811</td>\n",
       "    </tr>\n",
       "    <tr>\n",
       "      <th>2</th>\n",
       "      <td>Neural Network</td>\n",
       "      <td>0.730303</td>\n",
       "      <td>0.366819</td>\n",
       "      <td>0.496907</td>\n",
       "      <td>0.422067</td>\n",
       "    </tr>\n",
       "  </tbody>\n",
       "</table>\n",
       "</div>"
      ],
      "text/plain": [
       "             Models  Accuracy  Precision    Recall  F1-score\n",
       "0               SVM  0.734848   0.367424  0.500000  0.423581\n",
       "1  GradientBoosting  0.930303   0.921892  0.895965  0.907811\n",
       "2    Neural Network  0.730303   0.366819  0.496907  0.422067"
      ]
     },
     "execution_count": 41,
     "metadata": {},
     "output_type": "execute_result"
    }
   ],
   "source": [
    "comparison1 = {\n",
    "    'Models': ['SVM', 'GradientBoosting', 'Neural Network'],\n",
    "    'Accuracy': [results_svm[0], results_gbm[0], results_nn[0]],\n",
    "    'Precision': [results_svm[1], results_gbm[1], results_nn[1]],\n",
    "    'Recall': [results_svm[2], results_gbm[2], results_nn[2]],\n",
    "    'F1-score': [results_svm[3], results_gbm[3], results_nn[3]]\n",
    "}\n",
    "\n",
    "df_acc = pd.DataFrame(comparison1)\n",
    "df_acc"
   ]
  },
  {
   "cell_type": "code",
   "execution_count": 42,
   "id": "2f06f427",
   "metadata": {},
   "outputs": [
    {
     "data": {
      "text/plain": [
       "<matplotlib.axes._subplots.AxesSubplot at 0x15c9aa9e108>"
      ]
     },
     "execution_count": 42,
     "metadata": {},
     "output_type": "execute_result"
    },
    {
     "data": {
      "image/png": "[encoded data removed]",
      "text/plain": [
       "<Figure size 1080x504 with 1 Axes>"
      ]
     },
     "metadata": {
      "needs_background": "light"
     },
     "output_type": "display_data"
    }
   ],
   "source": [
    "df_acc.set_index(\"Models\").plot(kind='bar', figsize=(15,7))"
   ]
  },
  {
   "cell_type": "code",
   "execution_count": null,
   "id": "acec0510",
   "metadata": {},
   "outputs": [],
   "source": [
    "\n",
    "    "
   ]
  },
  {
   "cell_type": "code",
   "execution_count": null,
   "id": "0d9af46f",
   "metadata": {},
   "outputs": [],
   "source": []
  },
  {
   "cell_type": "code",
   "execution_count": null,
   "id": "3aa510f9",
   "metadata": {},
   "outputs": [],
   "source": [
    "\n",
    "\n"
   ]
  },
  {
   "cell_type": "code",
   "execution_count": null,
   "id": "7a29c9cd",
   "metadata": {},
   "outputs": [],
   "source": []
  },
  {
   "cell_type": "code",
   "execution_count": null,
   "id": "d37c59dd",
   "metadata": {},
   "outputs": [],
   "source": []
  }
 ],
 "metadata": {
  "kernelspec": {
   "display_name": "Python 3",
   "language": "python",
   "name": "python3"
  },
  "language_info": {
   "codemirror_mode": {
    "name": "ipython",
    "version": 3
   },
   "file_extension": ".py",
   "mimetype": "text/x-python",
   "name": "python",
   "nbconvert_exporter": "python",
   "pygments_lexer": "ipython3",
   "version": "3.7.6"
  }
 },
 "nbformat": 4,
 "nbformat_minor": 5
}
